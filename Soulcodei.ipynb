{
  "cells": [
    {
      "cell_type": "markdown",
      "metadata": {
        "id": "view-in-github",
        "colab_type": "text"
      },
      "source": [
        "<a href=\"https://colab.research.google.com/github/Isiumlord/Soulcodei/blob/main/Soulcodei.ipynb\" target=\"_parent\"><img src=\"https://colab.research.google.com/assets/colab-badge.svg\" alt=\"Open In Colab\"/></a>"
      ]
    },
    {
      "cell_type": "code",
      "execution_count": null,
      "metadata": {
        "id": "sMNyMQzWgBHG"
      },
      "outputs": [],
      "source": [
        "#LISTAS FIXAS\n",
        "\n",
        "personagens = [\" \", \"[1] Iris Viking - a Viking mais Viking que você poderia conhecer.\",\n",
        "               \"[2] André V. Calmarias - navegador dos 15 mares de Esquivimeus.\",\n",
        "               \"[3] Pati Python Queen - rainha do clã Segredos Codados.\"]"
      ]
    },
    {
      "cell_type": "code",
      "execution_count": null,
      "metadata": {
        "id": "zQnKo861dhCd"
      },
      "outputs": [],
      "source": [
        "#TABULAÇÃO DE CORES\n",
        "\n",
        "verde = \"\\033[0;32m\"\n",
        "azul = \"\\033[0;34m\"\n",
        "roxo = \"\\033[0;35m\"\n",
        "amarelo = \"\\033[0;33m\"\n",
        "vermelho = \"\\033[0;31m\"\n",
        "preto = \"\\033[7m\"\n",
        "negrito = \"\\033[;1m\"\n",
        "fechaCor = \"\\033[0m\""
      ]
    },
    {
      "cell_type": "code",
      "execution_count": null,
      "metadata": {
        "id": "AvSmufBRCzIE"
      },
      "outputs": [],
      "source": [
        "#FUNÇÃO DE TEMPO CARREGAMENTO DA HISTÓRIA\n",
        "\n",
        "import time\n",
        "\n",
        "def tempo():\n",
        "    time.sleep(2)"
      ]
    },
    {
      "cell_type": "code",
      "execution_count": null,
      "metadata": {
        "id": "Ai-a6AWXjMFC"
      },
      "outputs": [],
      "source": [
        "#FUNÇÃO DE TEMPO CARREGAMENTO DAS OPÇÕES DE AÇÃO HISTÓRIA\n",
        "\n",
        "def tempo2():\n",
        "    time.sleep(5)"
      ]
    },
    {
      "cell_type": "code",
      "execution_count": null,
      "metadata": {
        "id": "6EDwYzko54NP"
      },
      "outputs": [],
      "source": [
        "#MENU DE ESCOLHA DOS PERSONAGENS\n",
        "\n",
        "def persona():\n",
        "\n",
        "    print(\"\\nESCOLHA SEU PERSONAGEM\\n\")\n",
        "\n",
        "    \n",
        "    for i in range(len(personagens)):\n",
        "        print(personagens[i])\n",
        "    \n",
        "    \n",
        "\n",
        "    while True:\n",
        "        \n",
        "        while True:\n",
        "            try:\n",
        "                personagem = int(input(\"\\nDIGITE O ID DO PERSONAGEM: \"))\n",
        "                \n",
        "                while personagem <=0 or personagem > 3:\n",
        "                    personagem = int(input(\"\\nTENTE OUTRA VEZ, DIGITE O ID DO PERSONAGEM: \"))\n",
        "                break \n",
        "\n",
        "            except:\n",
        "                print(\"\\nÉ para digitar o ID do personagem, não avacalha.\")\n",
        "\n",
        "\n",
        "        if personagem == 3:\n",
        "            print(f\"\\n\\nVocê escolheu >>> {vermelho}PATI PYTHON QUEEN{fechaCor} <<<\\n\")\n",
        "            print(\"...Carregando História\")\n",
        "            tempo()\n",
        "            Pati()\n",
        "            break\n",
        "        \n",
        "        elif personagem == 2:\n",
        "            print(f\"\\n\\nVocê escolheu >>> {verde}ANDRÉ V. CALMARIAS{fechaCor} <<<\\n\")\n",
        "            print(\"...Carregando História\")\n",
        "            tempo()\n",
        "            Andre()\n",
        "            break\n",
        "        \n",
        "        elif personagem == 1:\n",
        "            print(f\"\\n\\nVocê escolheu >>> {amarelo}IRIS VIKING{fechaCor} <<<\\n\")\n",
        "            print(\"...Carregando História\")\n",
        "            tempo()\n",
        "            Iris()\n",
        "            break\n",
        "        \n",
        "        else:\n",
        "            print()\n",
        "            break"
      ]
    },
    {
      "cell_type": "code",
      "execution_count": null,
      "metadata": {
        "id": "fINK-3QtZ5eJ"
      },
      "outputs": [],
      "source": [
        "#FUNÇÃO DE PRINT QUEBRA DE PÁGINA\n",
        "\n",
        "def quebrap():\n",
        "\n",
        "    print()\n",
        "    print(\"|\"*200)\n",
        "    print()"
      ]
    },
    {
      "cell_type": "code",
      "execution_count": null,
      "metadata": {
        "id": "tJAJGVoTISbO"
      },
      "outputs": [],
      "source": [
        "#IRIS TABERNA\n",
        "\n",
        "def Iris():\n",
        "\n",
        "    quebrap()\n",
        "\n",
        "    print('''\\n\n",
        "        CAPITULO 1 - TABERNA PINA-COLADA\\n\n",
        "        _Você está brincando comigo?! Justo comigo, a Iris Viking?! –Iris não esperou por uma resposta. –Você vai morrer aqui, e agora!\n",
        "        Arremessou uma cadeira contra o homem que lhe enfurecerá.\n",
        "        Quanto antes o rapaz desviou, a cadeira atravessou a taberna e se espatifou contra a parede próxima ao bar.\n",
        "        Iris tinha o rosto vermelho. Seus olhos estavam irados.\n",
        "        _A gente pode conversar...\n",
        "        _Não! A gente não pode! –Iris foi para cima do rapaz, deu-lhe dois socos que fizeram-no ver estrelas.\n",
        "        Ela estava pronta para rebentar o rapaz ao meio, quando sentiu uma batida forte em suas pernas que lhe fizeram tombar.\n",
        "        Seu corpo foi ao chão instantaneamente. Foi tudo tão rápido que ela não conseguiu entender o que acontecia, mas pode acompanhar a fuga do homem que ela \n",
        "        queria morto junto de uma mulher que nunca tinha visto na vida.\\n ''')\n",
        "    \n",
        "    quebrap()\n",
        "\n",
        "    tempo2()\n",
        "    print(\"ESCOLHA:\\n\")\n",
        "    print(\"[A] para IR ATRAS DO RAPAZ E DA MULHER MISTERIOSA\")\n",
        "    print(\"[B] para FICAR NA TABERNA\\n\")\n",
        "\n",
        "    taberna3 = input(\"Você escolhe? \")\n",
        "\n",
        "    while taberna3 not in \"Aa\" and taberna3 not in \"Bb\":\n",
        "        print(\"\\nSó tem duas escolhas e tu ainda fica avacalhando tchê!?\")\n",
        "        print(\"Tenta de novo.\\n\")\n",
        "        print(\"[A] para IR ATRAS DO RAPAZ E DA MULHER MISTERIOSA\")\n",
        "        print(\"[B] para FICAR NA TABERNA\\n\")\n",
        "        taberna3 = input(\"\\nVocê escolhe? \")\n",
        "    \n",
        "    if taberna3 in \"Aa\":\n",
        "\n",
        "        quebrap()\n",
        "        \n",
        "        print('''\n",
        "        [...] IR ATRAS DO RAPAZ E DA MULHER MISTERIOSA [...]\\n\n",
        "        Iris levantou com a mesma rapidez que caiu.\n",
        "        Saltou para fora da taberna em busca de seu algoz.\n",
        "        Sua raiva era tanta que ela não conseguia pensar, só agir.\n",
        "        Quando viu os dois do lado de fora da taberna, juntou um punhado de lama e jogou contra a mulher que salvará o rapaz da briga.\n",
        "        _Intrometida! Tá pensando que é quem?''')\n",
        "    \n",
        "    elif taberna3 in \"Bb\":\n",
        "\n",
        "        quebrap()\n",
        "\n",
        "        print('''\n",
        "        [...] FICAR NA TABERNA [...]\\n\n",
        "        Iris levantou com a mesma rapidez que caiu.\n",
        "        Estava com raiva, mas não queria mais prolongar aquela briga inútil. \n",
        "        _Que fuja esse rato. Eu sei onde ele se esconde.''')\n",
        "    \n",
        "    else:\n",
        "        print(\"\")"
      ]
    },
    {
      "cell_type": "code",
      "execution_count": null,
      "metadata": {
        "id": "Dke-btQvIF5J"
      },
      "outputs": [],
      "source": [
        "#ANDRE TABERNA\n",
        "\n",
        "def Andre():\n",
        "\n",
        "    quebrap()\n",
        "\n",
        "    print('''\\n\n",
        "        CAPITULO 1 - TABERNA PINA-COLADA\\n\n",
        "        _Você está brincando comigo?! Justo comigo, a Iris Viking?! –Iris não esperou por uma resposta.\n",
        "        _Você vai morrer aqui, e agora! –arremessou uma cadeira contra o homem que lhe enfurecerá.\n",
        "        Quanto antes André desviou, a cadeira atravessou a taberna e se espatifou contra a parede próxima ao bar.\n",
        "        Iris tinha o rosto vermelho. Seus olhos estavam irados.\n",
        "        _A gente pode conversar... –tentava ele acalmar os ânimos da Viking que até então pretendia velejar com ele pelos mares de Esquivimeus.\n",
        "        _Não! A gente não pode! –Iris foi para cima do rapaz, deu-lhe dois socos que fizeram-no ver estrelas.\n",
        "        Iris estava furiosa. André não entendia como cobrar por seus serviços poderia ser assim tão ofensivo.\n",
        "        A mulher queria sua pele, mas por sorte alguém a derrubou e o arrastou para fora da taberna e da confusão.\n",
        "        _Não acredito que dependo de você para chegar ao meu propósito.\n",
        "        _Como assim? –André se soltou das mãos da mulher que o arrastara pelos cabelos. –Afinal, quem é você?\n",
        "        _Eu sou Pati. Preciso dos seus serviços.\n",
        "        _Dos meus serviços?\n",
        "        _É. Preciso ir a Soulcodei.\\n ''')\n",
        "    \n",
        "    quebrap()\n",
        "\n",
        "    tempo2()\n",
        "    print(\"ESCOLHA:\\n\")\n",
        "    print(\"[A] para ACEITAR O SERVIÇO\")\n",
        "    print(\"[B] para RECUSAR O SERVIÇO\\n\")\n",
        "\n",
        "    taberna3 = input(\"Você escolhe? \")\n",
        "\n",
        "    while taberna3 not in \"Aa\" and taberna3 not in \"Bb\":\n",
        "        print(\"\\nSó tem duas escolhas e tu ainda te fresqueia tchê!?\")\n",
        "        print(\"Tenta de novo.\\n\")\n",
        "        print(\"[A] para ACEITAR O SERVIÇO\")\n",
        "        print(\"[B] para RECUSAR O SERVIÇO\\n\")\n",
        "        taberna3 = input(\"\\nVocê escolhe? \")\n",
        "    \n",
        "    if taberna3 in \"Aa\":\n",
        "\n",
        "        quebrap()\n",
        "\n",
        "        print('''\n",
        "        [...] ACEITAR O SERVIÇO [...]\\n\n",
        "        _Soulcodei é um mistério, ninguém sabe o que tem lá. Dizem que há um monstro chamado Cloud-Nuvem. Eu não quero morrer. Você quer morrer?\n",
        "        _É lógico que não quero morrer.\n",
        "        _Pois parece.–André ajeitou sua túnica. –Agradeço por ter me salvado da Iris Viking. Amanhã, no cais. Me encontre lá. Leve seu ouro. Eu custo caro.''')\n",
        "    \n",
        "    elif taberna3 in \"Bb\":\n",
        "\n",
        "        quebrap()\n",
        "        \n",
        "        print('''\n",
        "        [...] RECUSAR O SERVIÇO [...]\\n\n",
        "        _Não, não, não. Soulcodei é um mistério, ninguém sabe o que tem lá. Dizem que há um monstro chamado Cloud-Nuvem. Eu não quero morrer. Você quer morrer?\n",
        "        _É lógico que não quero morrer.\n",
        "        _Pois parece. –André ajeitou sua túnica. –Agradeço por ter me salvado da Iris Viking, mas acho que vou ficar te devendo.''')\n",
        "    \n",
        "    else:\n",
        "        print(\"\")"
      ]
    },
    {
      "cell_type": "code",
      "execution_count": null,
      "metadata": {
        "id": "no9EFo4TGo-5"
      },
      "outputs": [],
      "source": [
        "#PATI TABERNA\n",
        "\n",
        "def Pati():\n",
        "\n",
        "    quebrap()\n",
        "\n",
        "    print('''\\n\n",
        "        CAPITULO 1 - TABERNA PINA-COLADA\\n\n",
        "        De repente uma cadeira se espatifou contra a parede ao seu lado.\n",
        "        _Bárbaros... –suspirou.\n",
        "        Os gritos dentro da taberna já estavam começando a irritá-la. Bebeu um pouco mais de sua cerveja, olhou ao redor. \n",
        "        Procurava pelo capitão do V. Calmarias, mas a única coisa que conseguia ver era uma briga.\n",
        "        _Ei! –fez sinal para o dono da taberna. –Onde encontro André, do barco V. Calmarias? Me disseram que ele estaria aqui.\n",
        "        _E ele está. –o velho apontou para a briga que acontecia.\n",
        "        _Que maravilha. –Pati levantou-se. –Vamos resolver isso agora.\\n ''')\n",
        "    \n",
        "    quebrap()\n",
        "\n",
        "    tempo2()\n",
        "    print(\"ESCOLHA:\\n\")\n",
        "    print(\"[A] para PARTICIPAR DA BRIGA\")\n",
        "    print(\"[B] para APARTAR A BRIGA\\n\")\n",
        "\n",
        "    taberna3 = input(\"Você escolhe? \")\n",
        "\n",
        "    while taberna3 not in \"Aa\" and taberna3 not in \"Bb\":\n",
        "        print(\"\\nSó tem duas escolhas e tu ainda fica avacalhando tchê!?\")\n",
        "        print(\"Tenta de novo.\\n\")\n",
        "        print(\"[A] para PARTICIPAR DA BRIGA\")\n",
        "        print(\"[B] para APARTAR A BRIGA\\n\")\n",
        "        taberna3 = input(\"\\nVocê escolhe? \")\n",
        "    \n",
        "    if taberna3 in \"Aa\":\n",
        "        print()\n",
        "        print(\"|\"*200)\n",
        "        print()\n",
        "        print('''\n",
        "        [...] PARTICIPAR DA BRIGA [...]\\n\n",
        "        Sem falar mais nada Pati entrou correndo no meio da briga.\n",
        "        Com uma rasteira derrubou a mulher que batia em André, e com um puxão de cabelo o arrastou para fora da taberna.\n",
        "        _Não acredito que dependo de você para chegar ao meu propósito.''')\n",
        "    \n",
        "    elif taberna3 in \"Bb\":\n",
        "\n",
        "        quebrap()\n",
        "        \n",
        "        print('''\n",
        "        [...] APARTAR A BRIGA [...]\\n\n",
        "        Sem falar mais nada Pati foi até a briga. Olhou por instantes o que acontecia.\n",
        "        André estava sendo ameaçado por uma mulher, que com certeza iria devora-lo se fosse um lobo.\n",
        "        _Te encontrei! –Pati agarrou André pelo braço e o arrastou para fora da taberna.\n",
        "        _Não acredito que dependo de você para chegar ao meu propósito.''')\n",
        "    \n",
        "    else:\n",
        "        print(\"\")\n",
        "        \n"
      ]
    },
    {
      "cell_type": "code",
      "execution_count": null,
      "metadata": {
        "colab": {
          "background_save": true,
          "base_uri": "https://localhost:8080/"
        },
        "id": "fWGSKA414cSM",
        "outputId": "0220f037-4ae5-4553-865a-1dcd6aa5cafc"
      },
      "outputs": [
        {
          "metadata": {
            "tags": null
          },
          "name": "stdout",
          "output_type": "stream",
          "text": [
            "Olá! Você está em SOULCODEI, um jogo de amor e ódio!\n",
            "\n",
            "\n",
            "ESCOLHA SEU PERSONAGEM\n",
            "\n",
            " \n",
            "[1] Iris Viking - a Viking mais Viking que você poderia conhecer.\n",
            "[2] André V. Calmarias - navegador dos 15 mares de Esquivimeus.\n",
            "[3] Pati Python Queen - rainha do clã Segredos Codados.\n"
          ]
        }
      ],
      "source": [
        "#TELA DE INICIO\n",
        "\n",
        "def inicio():\n",
        "\n",
        "    print(\"Olá! Você está em SOULCODEI, um jogo de amor e ódio!\\n\")\n",
        "    persona()\n",
        "\n",
        "inicio()"
      ]
    }
  ],
  "metadata": {
    "colab": {
      "collapsed_sections": [],
      "name": "SOULCODEI.ipynb",
      "provenance": [],
      "authorship_tag": "ABX9TyMrvk9fhbqybQfLZArkx5Qy",
      "include_colab_link": true
    },
    "kernelspec": {
      "display_name": "Python 3",
      "name": "python3"
    },
    "language_info": {
      "name": "python"
    }
  },
  "nbformat": 4,
  "nbformat_minor": 0
}